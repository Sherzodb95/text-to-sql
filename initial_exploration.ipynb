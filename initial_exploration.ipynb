{
 "cells": [
  {
   "cell_type": "markdown",
   "metadata": {},
   "source": [
    "## Goal\n",
    "\n",
    "The goal of this notebook is to explore how well Text2SQL works.  We will be researching different blogs and other resources on the internet and testing their sample code to see how well this works on a prototype problem.\n",
    "\n",
    "\n",
    "Initial resources:\n",
    "- Benchmark of Text2SQL and resources:  https://bird-bench.github.io/\n",
    "- Medium article with example Text2SQL: https://medium.com/rahasak/llamaindex-query-pipelines-tutorial-text-to-sql-example-d859ed90b87c\n",
    "- Aricle explaining Simple Text2SQL: https://www.promethium.ai/post/how-to-simplify-sql-with-text-to-sql-technology?utm_term=text-to-sql&utm_campaign=Text-to-SQL&utm_source=adwords&utm_medium=ppc&hsa_acc=2971535243&hsa_cam=21545252808&hsa_grp=165843844259&hsa_ad=708226298829&hsa_src=g&hsa_tgt=kwd-2306882311612&hsa_kw=text-to-sql&hsa_mt=b&hsa_net=adwords&hsa_ver=3&gad_source=1&gclid=CjwKCAiAnpy9BhAkEiwA-P8N4u0aQJMHZvU9fkLSsZmDwNlN0lyrrwelaNZPP9HqpCPRoPTNQrk3_hoC1zwQAvD_BwE\n",
    "- Reddit talk: https://www.reddit.com/r/LLMDevs/comments/196ldg3/seeking_advice_for_developing_a_texttosql/\n",
    "    - Regarding privacy. I think we will need to develop a separate workflow to check for role and permission using regular hard-coded logics. Simply run this workflow over the user query to determine its legality. If not legal, have the LLM reject the request tactfully, else let the LLM handle the request.\n",
    "\n",
    "\n",
    "##### Bird-Bench summary \n",
    "Source: https://arxiv.org/pdf/2305.03111\n",
    "\n",
    "- Better that Spider and WikiSQL\n",
    "- ChatGPT-4 54.9% accurate and human result 92.6% \n",
    "- If AI can learn to write correct and efficient SQL, it could make database work easier for everyone, especially   people who don’t know SQL. But right now, AI isn’t ready to fully replace human database experts.\n",
    "\n",
    "##### Llamaindex\n",
    "\n",
    "- LlamaIndex supports:\n",
    "\n",
    "    - Anthropic's Claude\n",
    "    - Google's PaLM\n",
    "    - Open-source models (LLaMA, Mistral, etc.)\n",
    "- Using RAG:\n"
   ]
  },
  {
   "cell_type": "code",
   "execution_count": null,
   "metadata": {},
   "outputs": [],
   "source": [
    "## RAG model\n",
    "\n",
    "from llama_index.core.objects import (\n",
    "    SQLTableNodeMapping,\n",
    "    ObjectIndex,\n",
    "    SQLTableSchema,\n",
    ")\n",
    "from llama_index.core import SQLDatabase\n",
    "\n",
    "sql_database = SQLDatabase(engine)\n",
    "\n",
    "table_node_mapping = SQLTableNodeMapping(sql_database)\n",
    "table_schema_objs = [\n",
    "    SQLTableSchema(table_name=t.table_name, context_str=t.table_summary)\n",
    "    for t in table_infos\n",
    "]  # add a SQLTableSchema for each table\n",
    "\n",
    "obj_index = ObjectIndex.from_objects(\n",
    "    table_schema_objs,\n",
    "    table_node_mapping,\n",
    "    VectorStoreIndex,\n",
    ")\n",
    "obj_retriever = obj_index.as_retriever(similarity_top_k=3)"
   ]
  },
  {
   "cell_type": "markdown",
   "metadata": {},
   "source": [
    "##### How to Simplify SQL with Text-to-SQL Technology\n",
    "https://www.promethium.ai/post/how-to-simplify-sql-with-text-to-sql-technology?utm_term=text-to-sql&utm_campaign=Text-to-SQL&utm_source=adwords&utm_medium=ppc&hsa_acc=2971535243&hsa_cam=21545252808&hsa_grp=165843844259&hsa_ad=708226298829&hsa_src=g&hsa_tgt=kwd-2306882311612&hsa_kw=text-to-sql&hsa_mt=b&hsa_net=adwords&hsa_ver=3&gad_source=1&gclid=CjwKCAiAnpy9BhAkEiwA-P8N4u0aQJMHZvU9fkLSsZmDwNlN0lyrrwelaNZPP9HqpCPRoPTNQrk3_hoC1zwQAvD_BwE\n",
    "\n",
    "- Data Fabric\n"
   ]
  },
  {
   "cell_type": "markdown",
   "metadata": {},
   "source": [
    "### RAG model\n",
    "\n",
    "### Other AIs to compare. "
   ]
  }
 ],
 "metadata": {
  "language_info": {
   "name": "python"
  }
 },
 "nbformat": 4,
 "nbformat_minor": 2
}
